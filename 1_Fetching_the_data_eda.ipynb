{
 "cells": [
  {
   "cell_type": "markdown",
   "metadata": {},
   "source": [
    "# SQL in Python - Connecting to and retrieving data from PostgreSQL\n",
    "\n",
    "Previously, you have learned how to connect to a SQL database by using a SQL client such as DBeaver. Apart from connecting to databases, DBeaver also allows you to run SQL queries against the database, create new tables and populate them with data as well as retrieving the data.\n",
    "\n",
    "Python also allows executing SQL queries and getting the result into a Python object, for example a Pandas data frame. Instead of exporting a .csv file from DBeaver you can directly get the data you need into Python and continue your work. In addition we can reduce the steps by connecting to the database from Python directly, eliminating the need for a separate SQL client.\n",
    "\n",
    "After you have the data in Python in the required shape you can export the data into a .csv file. This file is for your own reference, please avoid sending .csv files around - database is the point of reference when it comes to data. \n",
    "\n",
    "Having a copy of a .csv file (or another format) can speed up your analysis work. Imagine that the query takes 25 minutes to run. If you made some mistakes in your Python code you might need to go back to the original dataset. Instead of having to rerun the SQL query and having to wait you can read in the .csv file you have previously saved on your hard disk into Python and continue with your analysis work. \n",
    "\n",
    "**In this notebook you will see 2 ways to connect to SQL-Databases and export the data to a CSV file**\n"
   ]
  },
  {
   "cell_type": "markdown",
   "metadata": {},
   "source": [
    "## Creating a connection to a PostgreSQL database with Python"
   ]
  },
  {
   "attachments": {},
   "cell_type": "markdown",
   "metadata": {},
   "source": [
    "There are 2 python packages that are the \"go-to\" when it comes to connecting to SQL-Databases: `psycopg2` and `sqlalchemy` "
   ]
  },
  {
   "attachments": {},
   "cell_type": "markdown",
   "metadata": {},
   "source": [
    "### Connecting via psycopg2"
   ]
  },
  {
   "cell_type": "code",
   "execution_count": 1,
   "metadata": {},
   "outputs": [],
   "source": [
    "import pandas as pd\n",
    "import psycopg2"
   ]
  },
  {
   "attachments": {},
   "cell_type": "markdown",
   "metadata": {},
   "source": [
    "\n",
    "In order to create a connection to our PostgreSQL database we need the following information:\n",
    "\n",
    "- host = the address of the machine the database is hosted on\n",
    "- port = the virtual gate number through which communication will be allowed\n",
    "- database = the name of the database\n",
    "- user = the name of the user\n",
    "- password = the password of the user\n",
    "\n",
    "Because we don't want that the database information is published on github we put it into a `.env` file which is added into the `.gitignore`. \n",
    "In these kind of files you can store information that is not supposed to be published.\n",
    "With the `dotenv` package you can read the `.env` files and get the variables.\n",
    "(We will share the file with you on Slack!)\n"
   ]
  },
  {
   "cell_type": "code",
   "execution_count": 2,
   "metadata": {},
   "outputs": [],
   "source": [
    "import os\n",
    "from dotenv import load_dotenv\n",
    "\n",
    "load_dotenv()\n",
    "\n",
    "DATABASE = os.getenv('DATABASE')\n",
    "USER_DB = os.getenv('USER_DB')\n",
    "PASSWORD = os.getenv('PASSWORD')\n",
    "HOST = os.getenv('HOST')\n",
    "PORT = os.getenv('PORT')"
   ]
  },
  {
   "cell_type": "markdown",
   "metadata": {},
   "source": [
    "The function from the psycopg2 package to create a connection is called `connect()`.\n",
    "`connect()` expects the parameters listed above as input in order to connect to the database."
   ]
  },
  {
   "cell_type": "code",
   "execution_count": 3,
   "metadata": {},
   "outputs": [],
   "source": [
    "# Create connection object conn\n",
    "conn = psycopg2.connect(\n",
    "    database=DATABASE,\n",
    "    user=USER_DB,\n",
    "    password=PASSWORD,\n",
    "    host=HOST,\n",
    "    port=PORT\n",
    ")"
   ]
  },
  {
   "attachments": {},
   "cell_type": "markdown",
   "metadata": {},
   "source": [
    "### Retrieving data from the database with psycopg2\n",
    "\n",
    "Before we can use our connection to get data, we have to create a cursor. A cursor allows Python code to execute PostgreSQL commmands in a database session.\n",
    "A cursor has to be created with the `cursor()` method of our connection object conn."
   ]
  },
  {
   "cell_type": "code",
   "execution_count": 4,
   "metadata": {},
   "outputs": [],
   "source": [
    "cur = conn.cursor()"
   ]
  },
  {
   "cell_type": "markdown",
   "metadata": {},
   "source": [
    "Now we can run SQL-Queries with `cur.execute('QUERY')` and then run `cur.fetchall()` to get the data:"
   ]
  },
  {
   "cell_type": "code",
   "execution_count": null,
   "metadata": {},
   "outputs": [],
   "source": [
    "cur.execute('SELECT * FROM eda.king_county_house_sales')\n",
    "cur.fetchall()"
   ]
  },
  {
   "cell_type": "markdown",
   "metadata": {},
   "source": [
    "But we want to work with the data. The easiest way is to import the data into pandas dataframes. We can use `pd.read_sql_query` or `pd.read_sql_table` or for convenience `pd.read_sql`.\n",
    "\n",
    "This function is a convenience wrapper around read_sql_table and read_sql_query (for backward compatibility). It will delegate to the specific function depending on the provided input. A SQL query will be routed to read_sql_query , while a database table name will be routed to read_sql_table . Note that the delegated function might have more specific notes about their functionality not listed here."
   ]
  },
  {
   "cell_type": "code",
   "execution_count": 6,
   "metadata": {},
   "outputs": [],
   "source": [
    "# Open connection again because we closed it\n",
    "#conn = psycopg2.connect(\n",
    "#    database=DATABASE,\n",
    "#    user=USER_DB,\n",
    "#    password=PASSWORD,\n",
    "#    host=HOST,\n",
    "#    port=PORT\n",
    "#)"
   ]
  },
  {
   "cell_type": "code",
   "execution_count": 5,
   "metadata": {},
   "outputs": [
    {
     "name": "stderr",
     "output_type": "stream",
     "text": [
      "/var/folders/3r/65cz0ncj42375zk6tyvqgzk00000gn/T/ipykernel_30373/2695504167.py:3: UserWarning: pandas only supports SQLAlchemy connectable (engine/connection) or database string URI or sqlite3 DBAPI2 connection. Other DBAPI2 objects are not tested. Please consider using SQLAlchemy.\n",
      "  df_details = pd.read_sql(query_string, conn)\n"
     ]
    }
   ],
   "source": [
    "# import the house details data into a pandas dataframe\n",
    "query_string = \"SELECT * FROM eda.king_county_house_details\"\n",
    "df_details = pd.read_sql(query_string, conn)"
   ]
  },
  {
   "cell_type": "code",
   "execution_count": 6,
   "metadata": {},
   "outputs": [
    {
     "name": "stderr",
     "output_type": "stream",
     "text": [
      "/var/folders/3r/65cz0ncj42375zk6tyvqgzk00000gn/T/ipykernel_30373/505864475.py:3: UserWarning: pandas only supports SQLAlchemy connectable (engine/connection) or database string URI or sqlite3 DBAPI2 connection. Other DBAPI2 objects are not tested. Please consider using SQLAlchemy.\n",
      "  df_sales = pd.read_sql(query_string, conn)\n"
     ]
    }
   ],
   "source": [
    "# import the house sales data into a pandas dataframe\n",
    "query_string = \"SELECT * FROM eda.king_county_house_sales\"\n",
    "df_sales = pd.read_sql(query_string, conn)"
   ]
  },
  {
   "cell_type": "code",
   "execution_count": 7,
   "metadata": {},
   "outputs": [],
   "source": [
    "#close the connection\n",
    "conn.close()"
   ]
  },
  {
   "cell_type": "code",
   "execution_count": 8,
   "metadata": {},
   "outputs": [
    {
     "name": "stdout",
     "output_type": "stream",
     "text": [
      "           id  bedrooms  bathrooms  sqft_living  sqft_lot  floors  waterfront  \\\n",
      "0     1000102       6.0        3.0       2400.0    9373.0     2.0         NaN   \n",
      "1   100100050       3.0        1.0       1320.0   11090.0     1.0         0.0   \n",
      "2  1001200035       3.0        1.0       1350.0    7973.0     1.5         NaN   \n",
      "3  1001200050       4.0        1.5       1260.0    7248.0     1.5         NaN   \n",
      "4  1003000175       3.0        1.0        980.0    7606.0     1.0         0.0   \n",
      "\n",
      "   view  condition  grade  sqft_above  sqft_basement  yr_built  yr_renovated  \\\n",
      "0   0.0          3      7      2400.0            0.0      1991           0.0   \n",
      "1   0.0          3      7      1320.0            0.0      1955           0.0   \n",
      "2   0.0          3      7      1350.0            0.0      1954           0.0   \n",
      "3   0.0          5      7      1260.0            0.0      1955           NaN   \n",
      "4   0.0          3      7       980.0            0.0      1954           0.0   \n",
      "\n",
      "   zipcode      lat     long  sqft_living15  sqft_lot15  \n",
      "0    98002  47.3262 -122.214         2060.0      7316.0  \n",
      "1    98155  47.7748 -122.304         1320.0      8319.0  \n",
      "2    98188  47.4323 -122.292         1310.0      7491.0  \n",
      "3    98188  47.4330 -122.292         1300.0      7732.0  \n",
      "4    98188  47.4356 -122.290          980.0      8125.0  \n",
      "         date     price    house_id  id\n",
      "0  2014-10-13  221900.0  7129300520   1\n",
      "1  2014-12-09  538000.0  6414100192   2\n",
      "2  2015-02-25  180000.0  5631500400   3\n",
      "3  2014-12-09  604000.0  2487200875   4\n",
      "4  2015-02-18  510000.0  1954400510   5\n"
     ]
    }
   ],
   "source": [
    "print(df_details.head())\n",
    "print(df_sales.head())"
   ]
  },
  {
   "cell_type": "code",
   "execution_count": 12,
   "metadata": {},
   "outputs": [
    {
     "data": {
      "text/plain": [
       "(21420, 19)"
      ]
     },
     "execution_count": 12,
     "metadata": {},
     "output_type": "execute_result"
    }
   ],
   "source": [
    "df_details.shape\n",
    "#df_sales.shape"
   ]
  },
  {
   "cell_type": "code",
   "execution_count": 15,
   "metadata": {},
   "outputs": [],
   "source": [
    "#export the data to a csv-file\n",
    "df_details.to_csv('data/eda_details.csv',index=False)\n",
    "df_sales.to_csv('data/eda_sales.csv',index=False)"
   ]
  },
  {
   "attachments": {},
   "cell_type": "markdown",
   "metadata": {},
   "source": [
    "### Connecting and retrieving data via SQLAlchemy\n",
    "\n",
    "`sqlalchemy` works similarly. Here you have to create an engine with the database sting (a link that includes every information we entered in the conn object)"
   ]
  },
  {
   "cell_type": "code",
   "execution_count": 11,
   "metadata": {},
   "outputs": [],
   "source": [
    "#from sqlalchemy import create_engine\n",
    "\n",
    "#read the database string from the .env\n",
    "#load_dotenv()\n",
    "\n",
    "#DB_STRING = os.getenv('DB_STRING')\n",
    "\n",
    "#db = create_engine(DB_STRING)"
   ]
  },
  {
   "cell_type": "markdown",
   "metadata": {},
   "source": [
    "And then you can import that engine with a query into a pandas dataframe."
   ]
  },
  {
   "cell_type": "code",
   "execution_count": 12,
   "metadata": {},
   "outputs": [],
   "source": [
    "#import the data to a pandas dataframe\n",
    "#query_string = \"SELECT * FROM eda.king_county_house_sales\"\n",
    "#df_sqlalchemy = pd.read_sql(query_string, db)"
   ]
  },
  {
   "cell_type": "code",
   "execution_count": null,
   "metadata": {},
   "outputs": [],
   "source": [
    "#df_sqlalchemy.head()"
   ]
  },
  {
   "attachments": {},
   "cell_type": "markdown",
   "metadata": {},
   "source": [
    "Because we don't want to run the queries over and over again we can export the data into a .csv file in order to use it in other notebooks as well. "
   ]
  },
  {
   "cell_type": "code",
   "execution_count": null,
   "metadata": {},
   "outputs": [],
   "source": [
    "#export the data to a csv-file\n",
    "#df_sqlalchemy.to_csv('eda.csv',index=False)"
   ]
  },
  {
   "cell_type": "code",
   "execution_count": 18,
   "metadata": {},
   "outputs": [],
   "source": [
    "#import the data from a csv-file\n",
    "#df_import = pd.read_csv('data/eda.csv')"
   ]
  },
  {
   "cell_type": "markdown",
   "metadata": {},
   "source": [
    "### Joining the Tables\n",
    "\n",
    "The next step is to ensure that column names for both tables are different from each other. After confirming, we can now join the 2 tables."
   ]
  },
  {
   "cell_type": "code",
   "execution_count": 55,
   "metadata": {},
   "outputs": [],
   "source": [
    "#renaming the column name 'id' that is common in both tables\n",
    "df_details.rename(columns={'id': 'details_id'}, inplace=True)\n",
    "df_sales.rename(columns={'id': 'sales_id', 'date': 'sale_date'}, inplace=True)"
   ]
  },
  {
   "cell_type": "code",
   "execution_count": 56,
   "metadata": {},
   "outputs": [
    {
     "data": {
      "text/html": [
       "<div>\n",
       "<style scoped>\n",
       "    .dataframe tbody tr th:only-of-type {\n",
       "        vertical-align: middle;\n",
       "    }\n",
       "\n",
       "    .dataframe tbody tr th {\n",
       "        vertical-align: top;\n",
       "    }\n",
       "\n",
       "    .dataframe thead th {\n",
       "        text-align: right;\n",
       "    }\n",
       "</style>\n",
       "<table border=\"1\" class=\"dataframe\">\n",
       "  <thead>\n",
       "    <tr style=\"text-align: right;\">\n",
       "      <th></th>\n",
       "      <th>details_id</th>\n",
       "      <th>bedrooms</th>\n",
       "      <th>bathrooms</th>\n",
       "      <th>sqft_living</th>\n",
       "      <th>sqft_lot</th>\n",
       "      <th>floors</th>\n",
       "      <th>waterfront</th>\n",
       "      <th>view</th>\n",
       "      <th>condition</th>\n",
       "      <th>grade</th>\n",
       "      <th>...</th>\n",
       "      <th>yr_renovated</th>\n",
       "      <th>zipcode</th>\n",
       "      <th>lat</th>\n",
       "      <th>long</th>\n",
       "      <th>sqft_living15</th>\n",
       "      <th>sqft_lot15</th>\n",
       "      <th>sale_date</th>\n",
       "      <th>price</th>\n",
       "      <th>house_id</th>\n",
       "      <th>sales_id</th>\n",
       "    </tr>\n",
       "  </thead>\n",
       "  <tbody>\n",
       "    <tr>\n",
       "      <th>0</th>\n",
       "      <td>1000102</td>\n",
       "      <td>6.000</td>\n",
       "      <td>3.000</td>\n",
       "      <td>2400.000</td>\n",
       "      <td>9373.000</td>\n",
       "      <td>2.000</td>\n",
       "      <td>NaN</td>\n",
       "      <td>0.000</td>\n",
       "      <td>3</td>\n",
       "      <td>7</td>\n",
       "      <td>...</td>\n",
       "      <td>0.000</td>\n",
       "      <td>98002</td>\n",
       "      <td>47.326</td>\n",
       "      <td>-122.214</td>\n",
       "      <td>2060.000</td>\n",
       "      <td>7316.000</td>\n",
       "      <td>2014-09-16</td>\n",
       "      <td>280000.000</td>\n",
       "      <td>1000102</td>\n",
       "      <td>2495</td>\n",
       "    </tr>\n",
       "    <tr>\n",
       "      <th>1</th>\n",
       "      <td>1000102</td>\n",
       "      <td>6.000</td>\n",
       "      <td>3.000</td>\n",
       "      <td>2400.000</td>\n",
       "      <td>9373.000</td>\n",
       "      <td>2.000</td>\n",
       "      <td>NaN</td>\n",
       "      <td>0.000</td>\n",
       "      <td>3</td>\n",
       "      <td>7</td>\n",
       "      <td>...</td>\n",
       "      <td>0.000</td>\n",
       "      <td>98002</td>\n",
       "      <td>47.326</td>\n",
       "      <td>-122.214</td>\n",
       "      <td>2060.000</td>\n",
       "      <td>7316.000</td>\n",
       "      <td>2015-04-22</td>\n",
       "      <td>300000.000</td>\n",
       "      <td>1000102</td>\n",
       "      <td>2496</td>\n",
       "    </tr>\n",
       "    <tr>\n",
       "      <th>2</th>\n",
       "      <td>100100050</td>\n",
       "      <td>3.000</td>\n",
       "      <td>1.000</td>\n",
       "      <td>1320.000</td>\n",
       "      <td>11090.000</td>\n",
       "      <td>1.000</td>\n",
       "      <td>0.000</td>\n",
       "      <td>0.000</td>\n",
       "      <td>3</td>\n",
       "      <td>7</td>\n",
       "      <td>...</td>\n",
       "      <td>0.000</td>\n",
       "      <td>98155</td>\n",
       "      <td>47.775</td>\n",
       "      <td>-122.304</td>\n",
       "      <td>1320.000</td>\n",
       "      <td>8319.000</td>\n",
       "      <td>2014-11-12</td>\n",
       "      <td>275000.000</td>\n",
       "      <td>100100050</td>\n",
       "      <td>7320</td>\n",
       "    </tr>\n",
       "    <tr>\n",
       "      <th>3</th>\n",
       "      <td>1001200035</td>\n",
       "      <td>3.000</td>\n",
       "      <td>1.000</td>\n",
       "      <td>1350.000</td>\n",
       "      <td>7973.000</td>\n",
       "      <td>1.500</td>\n",
       "      <td>NaN</td>\n",
       "      <td>0.000</td>\n",
       "      <td>3</td>\n",
       "      <td>7</td>\n",
       "      <td>...</td>\n",
       "      <td>0.000</td>\n",
       "      <td>98188</td>\n",
       "      <td>47.432</td>\n",
       "      <td>-122.292</td>\n",
       "      <td>1310.000</td>\n",
       "      <td>7491.000</td>\n",
       "      <td>2015-03-06</td>\n",
       "      <td>272450.000</td>\n",
       "      <td>1001200035</td>\n",
       "      <td>13278</td>\n",
       "    </tr>\n",
       "    <tr>\n",
       "      <th>4</th>\n",
       "      <td>1001200050</td>\n",
       "      <td>4.000</td>\n",
       "      <td>1.500</td>\n",
       "      <td>1260.000</td>\n",
       "      <td>7248.000</td>\n",
       "      <td>1.500</td>\n",
       "      <td>NaN</td>\n",
       "      <td>0.000</td>\n",
       "      <td>5</td>\n",
       "      <td>7</td>\n",
       "      <td>...</td>\n",
       "      <td>NaN</td>\n",
       "      <td>98188</td>\n",
       "      <td>47.433</td>\n",
       "      <td>-122.292</td>\n",
       "      <td>1300.000</td>\n",
       "      <td>7732.000</td>\n",
       "      <td>2014-09-23</td>\n",
       "      <td>259000.000</td>\n",
       "      <td>1001200050</td>\n",
       "      <td>15529</td>\n",
       "    </tr>\n",
       "  </tbody>\n",
       "</table>\n",
       "<p>5 rows × 23 columns</p>\n",
       "</div>"
      ],
      "text/plain": [
       "   details_id  bedrooms  bathrooms  sqft_living  sqft_lot  floors  waterfront  \\\n",
       "0     1000102     6.000      3.000     2400.000  9373.000   2.000         NaN   \n",
       "1     1000102     6.000      3.000     2400.000  9373.000   2.000         NaN   \n",
       "2   100100050     3.000      1.000     1320.000 11090.000   1.000       0.000   \n",
       "3  1001200035     3.000      1.000     1350.000  7973.000   1.500         NaN   \n",
       "4  1001200050     4.000      1.500     1260.000  7248.000   1.500         NaN   \n",
       "\n",
       "   view  condition  grade  ...  yr_renovated  zipcode    lat     long  \\\n",
       "0 0.000          3      7  ...         0.000    98002 47.326 -122.214   \n",
       "1 0.000          3      7  ...         0.000    98002 47.326 -122.214   \n",
       "2 0.000          3      7  ...         0.000    98155 47.775 -122.304   \n",
       "3 0.000          3      7  ...         0.000    98188 47.432 -122.292   \n",
       "4 0.000          5      7  ...           NaN    98188 47.433 -122.292   \n",
       "\n",
       "   sqft_living15  sqft_lot15   sale_date      price    house_id sales_id  \n",
       "0       2060.000    7316.000  2014-09-16 280000.000     1000102     2495  \n",
       "1       2060.000    7316.000  2015-04-22 300000.000     1000102     2496  \n",
       "2       1320.000    8319.000  2014-11-12 275000.000   100100050     7320  \n",
       "3       1310.000    7491.000  2015-03-06 272450.000  1001200035    13278  \n",
       "4       1300.000    7732.000  2014-09-23 259000.000  1001200050    15529  \n",
       "\n",
       "[5 rows x 23 columns]"
      ]
     },
     "execution_count": 56,
     "metadata": {},
     "output_type": "execute_result"
    }
   ],
   "source": [
    "#using pandas to merge the House Details and House Sales tables\n",
    "df_joined = pd.merge(df_details, df_sales, left_on='details_id', right_on='house_id', how='left')\n",
    "df_joined.head()"
   ]
  },
  {
   "cell_type": "markdown",
   "metadata": {},
   "source": [
    "Preparation of data with required columns for doing analysis"
   ]
  },
  {
   "cell_type": "code",
   "execution_count": 58,
   "metadata": {},
   "outputs": [
    {
     "data": {
      "text/html": [
       "<div>\n",
       "<style scoped>\n",
       "    .dataframe tbody tr th:only-of-type {\n",
       "        vertical-align: middle;\n",
       "    }\n",
       "\n",
       "    .dataframe tbody tr th {\n",
       "        vertical-align: top;\n",
       "    }\n",
       "\n",
       "    .dataframe thead th {\n",
       "        text-align: right;\n",
       "    }\n",
       "</style>\n",
       "<table border=\"1\" class=\"dataframe\">\n",
       "  <thead>\n",
       "    <tr style=\"text-align: right;\">\n",
       "      <th></th>\n",
       "      <th>details_id</th>\n",
       "      <th>bedrooms</th>\n",
       "      <th>bathrooms</th>\n",
       "      <th>sqft_living</th>\n",
       "      <th>sqft_lot</th>\n",
       "      <th>floors</th>\n",
       "      <th>waterfront</th>\n",
       "      <th>view</th>\n",
       "      <th>condition</th>\n",
       "      <th>grade</th>\n",
       "      <th>...</th>\n",
       "      <th>sqft_basement</th>\n",
       "      <th>yr_built</th>\n",
       "      <th>yr_renovated</th>\n",
       "      <th>zipcode</th>\n",
       "      <th>lat</th>\n",
       "      <th>long</th>\n",
       "      <th>sqft_living15</th>\n",
       "      <th>sqft_lot15</th>\n",
       "      <th>sale_date</th>\n",
       "      <th>price</th>\n",
       "    </tr>\n",
       "  </thead>\n",
       "  <tbody>\n",
       "    <tr>\n",
       "      <th>0</th>\n",
       "      <td>1000102</td>\n",
       "      <td>6.000</td>\n",
       "      <td>3.000</td>\n",
       "      <td>2400.000</td>\n",
       "      <td>9373.000</td>\n",
       "      <td>2.000</td>\n",
       "      <td>NaN</td>\n",
       "      <td>0.000</td>\n",
       "      <td>3</td>\n",
       "      <td>7</td>\n",
       "      <td>...</td>\n",
       "      <td>0.000</td>\n",
       "      <td>1991</td>\n",
       "      <td>0.000</td>\n",
       "      <td>98002</td>\n",
       "      <td>47.326</td>\n",
       "      <td>-122.214</td>\n",
       "      <td>2060.000</td>\n",
       "      <td>7316.000</td>\n",
       "      <td>2014-09-16</td>\n",
       "      <td>280000.000</td>\n",
       "    </tr>\n",
       "    <tr>\n",
       "      <th>1</th>\n",
       "      <td>1000102</td>\n",
       "      <td>6.000</td>\n",
       "      <td>3.000</td>\n",
       "      <td>2400.000</td>\n",
       "      <td>9373.000</td>\n",
       "      <td>2.000</td>\n",
       "      <td>NaN</td>\n",
       "      <td>0.000</td>\n",
       "      <td>3</td>\n",
       "      <td>7</td>\n",
       "      <td>...</td>\n",
       "      <td>0.000</td>\n",
       "      <td>1991</td>\n",
       "      <td>0.000</td>\n",
       "      <td>98002</td>\n",
       "      <td>47.326</td>\n",
       "      <td>-122.214</td>\n",
       "      <td>2060.000</td>\n",
       "      <td>7316.000</td>\n",
       "      <td>2015-04-22</td>\n",
       "      <td>300000.000</td>\n",
       "    </tr>\n",
       "    <tr>\n",
       "      <th>2</th>\n",
       "      <td>100100050</td>\n",
       "      <td>3.000</td>\n",
       "      <td>1.000</td>\n",
       "      <td>1320.000</td>\n",
       "      <td>11090.000</td>\n",
       "      <td>1.000</td>\n",
       "      <td>0.000</td>\n",
       "      <td>0.000</td>\n",
       "      <td>3</td>\n",
       "      <td>7</td>\n",
       "      <td>...</td>\n",
       "      <td>0.000</td>\n",
       "      <td>1955</td>\n",
       "      <td>0.000</td>\n",
       "      <td>98155</td>\n",
       "      <td>47.775</td>\n",
       "      <td>-122.304</td>\n",
       "      <td>1320.000</td>\n",
       "      <td>8319.000</td>\n",
       "      <td>2014-11-12</td>\n",
       "      <td>275000.000</td>\n",
       "    </tr>\n",
       "    <tr>\n",
       "      <th>3</th>\n",
       "      <td>1001200035</td>\n",
       "      <td>3.000</td>\n",
       "      <td>1.000</td>\n",
       "      <td>1350.000</td>\n",
       "      <td>7973.000</td>\n",
       "      <td>1.500</td>\n",
       "      <td>NaN</td>\n",
       "      <td>0.000</td>\n",
       "      <td>3</td>\n",
       "      <td>7</td>\n",
       "      <td>...</td>\n",
       "      <td>0.000</td>\n",
       "      <td>1954</td>\n",
       "      <td>0.000</td>\n",
       "      <td>98188</td>\n",
       "      <td>47.432</td>\n",
       "      <td>-122.292</td>\n",
       "      <td>1310.000</td>\n",
       "      <td>7491.000</td>\n",
       "      <td>2015-03-06</td>\n",
       "      <td>272450.000</td>\n",
       "    </tr>\n",
       "    <tr>\n",
       "      <th>4</th>\n",
       "      <td>1001200050</td>\n",
       "      <td>4.000</td>\n",
       "      <td>1.500</td>\n",
       "      <td>1260.000</td>\n",
       "      <td>7248.000</td>\n",
       "      <td>1.500</td>\n",
       "      <td>NaN</td>\n",
       "      <td>0.000</td>\n",
       "      <td>5</td>\n",
       "      <td>7</td>\n",
       "      <td>...</td>\n",
       "      <td>0.000</td>\n",
       "      <td>1955</td>\n",
       "      <td>NaN</td>\n",
       "      <td>98188</td>\n",
       "      <td>47.433</td>\n",
       "      <td>-122.292</td>\n",
       "      <td>1300.000</td>\n",
       "      <td>7732.000</td>\n",
       "      <td>2014-09-23</td>\n",
       "      <td>259000.000</td>\n",
       "    </tr>\n",
       "  </tbody>\n",
       "</table>\n",
       "<p>5 rows × 21 columns</p>\n",
       "</div>"
      ],
      "text/plain": [
       "   details_id  bedrooms  bathrooms  sqft_living  sqft_lot  floors  waterfront  \\\n",
       "0     1000102     6.000      3.000     2400.000  9373.000   2.000         NaN   \n",
       "1     1000102     6.000      3.000     2400.000  9373.000   2.000         NaN   \n",
       "2   100100050     3.000      1.000     1320.000 11090.000   1.000       0.000   \n",
       "3  1001200035     3.000      1.000     1350.000  7973.000   1.500         NaN   \n",
       "4  1001200050     4.000      1.500     1260.000  7248.000   1.500         NaN   \n",
       "\n",
       "   view  condition  grade  ...  sqft_basement  yr_built  yr_renovated  \\\n",
       "0 0.000          3      7  ...          0.000      1991         0.000   \n",
       "1 0.000          3      7  ...          0.000      1991         0.000   \n",
       "2 0.000          3      7  ...          0.000      1955         0.000   \n",
       "3 0.000          3      7  ...          0.000      1954         0.000   \n",
       "4 0.000          5      7  ...          0.000      1955           NaN   \n",
       "\n",
       "   zipcode    lat     long  sqft_living15  sqft_lot15   sale_date      price  \n",
       "0    98002 47.326 -122.214       2060.000    7316.000  2014-09-16 280000.000  \n",
       "1    98002 47.326 -122.214       2060.000    7316.000  2015-04-22 300000.000  \n",
       "2    98155 47.775 -122.304       1320.000    8319.000  2014-11-12 275000.000  \n",
       "3    98188 47.432 -122.292       1310.000    7491.000  2015-03-06 272450.000  \n",
       "4    98188 47.433 -122.292       1300.000    7732.000  2014-09-23 259000.000  \n",
       "\n",
       "[5 rows x 21 columns]"
      ]
     },
     "execution_count": 58,
     "metadata": {},
     "output_type": "execute_result"
    }
   ],
   "source": [
    "eda_data = df_joined[[*df_details.columns, 'sale_date', 'price']]\n",
    "eda_data.to_csv('data/eda_data.csv', index=False)\n",
    "eda_data.head()"
   ]
  },
  {
   "cell_type": "markdown",
   "metadata": {},
   "source": [
    "### Visualize current dataset\n",
    "\n",
    "Check how the data looks like."
   ]
  },
  {
   "cell_type": "code",
   "execution_count": 59,
   "metadata": {},
   "outputs": [
    {
     "data": {
      "image/png": "[encoded data removed]",
      "text/plain": [
       "<Figure size 800x500 with 1 Axes>"
      ]
     },
     "metadata": {},
     "output_type": "display_data"
    }
   ],
   "source": [
    "import warnings\n",
    "\n",
    "warnings.filterwarnings(\"ignore\")\n",
    "\n",
    "import pandas as pd\n",
    "import numpy as np\n",
    "import matplotlib.pyplot as plt\n",
    "import seaborn as sns\n",
    "\n",
    "\n",
    "from matplotlib.ticker import PercentFormatter\n",
    "plt.rcParams.update({ \"figure.figsize\" : (8, 5),\"axes.facecolor\" : \"white\", \"axes.edgecolor\":  \"black\"})\n",
    "plt.rcParams[\"figure.facecolor\"]= \"w\"\n",
    "pd.plotting.register_matplotlib_converters()\n",
    "pd.set_option('display.float_format', lambda x: '%.3f' % x)\n",
    "\n",
    "plt.hist(eda_data['price'], bins=70, color='lightblue', edgecolor='black')\n",
    "plt.title('Price Distribution')\n",
    "plt.xlabel('Price')\n",
    "plt.ylabel('Frequency')\n",
    "plt.xlim(0, 5000000)\n",
    "plt.show()"
   ]
  },
  {
   "cell_type": "markdown",
   "metadata": {},
   "source": [
    "#### EDA - 1: Fixing Column Names & Formats\n",
    "\n",
    "We start with checking and fixing column names & formats"
   ]
  },
  {
   "cell_type": "code",
   "execution_count": 60,
   "metadata": {},
   "outputs": [
    {
     "data": {
      "text/plain": [
       "Index(['details_id', 'bedrooms', 'bathrooms', 'sqft_living', 'sqft_lot',\n",
       "       'floors', 'waterfront', 'view', 'condition', 'grade', 'sqft_above',\n",
       "       'sqft_basement', 'yr_built', 'yr_renovated', 'zipcode', 'lat', 'long',\n",
       "       'sqft_living15', 'sqft_lot15', 'sale_date', 'price'],\n",
       "      dtype='object')"
      ]
     },
     "execution_count": 60,
     "metadata": {},
     "output_type": "execute_result"
    }
   ],
   "source": [
    "eda_data.columns"
   ]
  },
  {
   "cell_type": "markdown",
   "metadata": {},
   "source": [
    "The column naming and formatting convention looks correct."
   ]
  },
  {
   "cell_type": "markdown",
   "metadata": {},
   "source": [
    "#### EDA - 2: Checking Duplicates"
   ]
  },
  {
   "cell_type": "code",
   "execution_count": 61,
   "metadata": {},
   "outputs": [
    {
     "data": {
      "text/plain": [
       "False    21597\n",
       "Name: count, dtype: int64"
      ]
     },
     "execution_count": 61,
     "metadata": {},
     "output_type": "execute_result"
    }
   ],
   "source": [
    "eda_data.duplicated().value_counts()"
   ]
  },
  {
   "cell_type": "markdown",
   "metadata": {},
   "source": [
    "The dataset seem to have all unique values only. "
   ]
  },
  {
   "cell_type": "markdown",
   "metadata": {},
   "source": [
    "#### EDA - 3: Data Types & Transforming Data"
   ]
  },
  {
   "cell_type": "code",
   "execution_count": 65,
   "metadata": {},
   "outputs": [
    {
     "data": {
      "text/plain": [
       "details_id                int64\n",
       "bedrooms                float64\n",
       "bathrooms               float64\n",
       "sqft_living             float64\n",
       "sqft_lot                float64\n",
       "floors                  float64\n",
       "waterfront              float64\n",
       "view                    float64\n",
       "condition                 int64\n",
       "grade                     int64\n",
       "sqft_above              float64\n",
       "sqft_basement           float64\n",
       "yr_built                  int64\n",
       "yr_renovated            float64\n",
       "zipcode                   int64\n",
       "lat                     float64\n",
       "long                    float64\n",
       "sqft_living15           float64\n",
       "sqft_lot15              float64\n",
       "sale_date        datetime64[ns]\n",
       "price                   float64\n",
       "dtype: object"
      ]
     },
     "execution_count": 65,
     "metadata": {},
     "output_type": "execute_result"
    }
   ],
   "source": [
    "eda_data.dtypes"
   ]
  },
  {
   "cell_type": "code",
   "execution_count": 64,
   "metadata": {},
   "outputs": [],
   "source": [
    "#changing sale_date to \n",
    "type(eda_data['sale_date'])\n",
    "eda_data['sale_date'] = pd.to_datetime(eda_data['sale_date'])"
   ]
  },
  {
   "cell_type": "code",
   "execution_count": 66,
   "metadata": {},
   "outputs": [
    {
     "name": "stdout",
     "output_type": "stream",
     "text": [
      "          details_id  bedrooms  bathrooms  sqft_living    sqft_lot    floors  \\\n",
      "count      21597.000 21597.000  21597.000    21597.000   21597.000 21597.000   \n",
      "mean  4580474287.771     3.373      2.116     2080.322   15099.409     1.494   \n",
      "min      1000102.000     1.000      0.500      370.000     520.000     1.000   \n",
      "25%   2123049175.000     3.000      1.750     1430.000    5040.000     1.000   \n",
      "50%   3904930410.000     3.000      2.250     1910.000    7618.000     1.500   \n",
      "75%   7308900490.000     4.000      2.500     2550.000   10685.000     2.000   \n",
      "max   9900000190.000    33.000      8.000    13540.000 1651359.000     3.500   \n",
      "std   2876735715.748     0.926      0.769      918.106   41412.637     0.540   \n",
      "\n",
      "       waterfront      view  condition     grade  ...  sqft_basement  \\\n",
      "count   19206.000 21534.000  21597.000 21597.000  ...      21145.000   \n",
      "mean        0.008     0.234      3.410     7.658  ...        291.857   \n",
      "min         0.000     0.000      1.000     3.000  ...          0.000   \n",
      "25%         0.000     0.000      3.000     7.000  ...          0.000   \n",
      "50%         0.000     0.000      3.000     7.000  ...          0.000   \n",
      "75%         0.000     0.000      4.000     8.000  ...        560.000   \n",
      "max         1.000     4.000      5.000    13.000  ...       4820.000   \n",
      "std         0.087     0.766      0.651     1.173  ...        442.491   \n",
      "\n",
      "       yr_built  yr_renovated   zipcode       lat      long  sqft_living15  \\\n",
      "count 21597.000     17749.000 21597.000 21597.000 21597.000      21597.000   \n",
      "mean   1971.000       836.651 98077.952    47.560  -122.214       1986.620   \n",
      "min    1900.000         0.000 98001.000    47.156  -122.519        399.000   \n",
      "25%    1951.000         0.000 98033.000    47.471  -122.328       1490.000   \n",
      "50%    1975.000         0.000 98065.000    47.572  -122.231       1840.000   \n",
      "75%    1997.000         0.000 98118.000    47.678  -122.125       2360.000   \n",
      "max    2015.000     20150.000 98199.000    47.778  -121.315       6210.000   \n",
      "std      29.375      4000.111    53.513     0.139     0.141        685.230   \n",
      "\n",
      "       sqft_lot15                   sale_date       price  \n",
      "count   21597.000                       21597   21597.000  \n",
      "mean    12758.284  2014-10-29 04:20:38.171968  540296.574  \n",
      "min       651.000         2014-05-02 00:00:00   78000.000  \n",
      "25%      5100.000         2014-07-22 00:00:00  322000.000  \n",
      "50%      7620.000         2014-10-16 00:00:00  450000.000  \n",
      "75%     10083.000         2015-02-17 00:00:00  645000.000  \n",
      "max    871200.000         2015-05-27 00:00:00 7700000.000  \n",
      "std     27274.442                         NaN  367368.140  \n",
      "\n",
      "[8 rows x 21 columns]\n"
     ]
    }
   ],
   "source": [
    "#print(eda_data.head())\n",
    "#print(eda_data.tail())\n",
    "#print(eda_data.info())\n",
    "print(eda_data.describe())"
   ]
  },
  {
   "cell_type": "markdown",
   "metadata": {},
   "source": [
    "#### EDA - 4: Checking for Missing Values"
   ]
  },
  {
   "cell_type": "code",
   "execution_count": 50,
   "metadata": {},
   "outputs": [
    {
     "data": {
      "text/plain": [
       "details_id          0\n",
       "bedrooms            0\n",
       "bathrooms           0\n",
       "sqft_living         0\n",
       "sqft_lot            0\n",
       "floors              0\n",
       "waterfront       2391\n",
       "view               63\n",
       "condition           0\n",
       "grade               0\n",
       "sqft_above          0\n",
       "sqft_basement     452\n",
       "yr_built            0\n",
       "yr_renovated     3848\n",
       "zipcode             0\n",
       "lat                 0\n",
       "long                0\n",
       "sqft_living15       0\n",
       "sqft_lot15          0\n",
       "date                0\n",
       "price               0\n",
       "dtype: int64"
      ]
     },
     "execution_count": 50,
     "metadata": {},
     "output_type": "execute_result"
    },
    {
     "data": {
      "image/png": "[encoded data removed]",
      "text/plain": [
       "<Figure size 2500x1000 with 2 Axes>"
      ]
     },
     "metadata": {},
     "output_type": "display_data"
    }
   ],
   "source": [
    "import missingno as msno\n",
    "msno.matrix(eda_data)\n",
    "eda_data.isna().sum()"
   ]
  }
 ],
 "metadata": {
  "kernelspec": {
   "display_name": "Python 3.9.12 ('.venv': venv)",
   "language": "python",
   "name": "python3"
  },
  "language_info": {
   "codemirror_mode": {
    "name": "ipython",
    "version": 3
   },
   "file_extension": ".py",
   "mimetype": "text/x-python",
   "name": "python",
   "nbconvert_exporter": "python",
   "pygments_lexer": "ipython3",
   "version": "3.11.3"
  },
  "vscode": {
   "interpreter": {
    "hash": "86bfcc733a99316639cfae738bd2c12342c3c5e2c4e3f470908e9f9639795c12"
   }
  }
 },
 "nbformat": 4,
 "nbformat_minor": 4
}
